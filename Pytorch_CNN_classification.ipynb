{
 "cells": [
  {
   "cell_type": "markdown",
   "id": "e038f3ad",
   "metadata": {},
   "source": [
    "- 첫번째 레이어\n",
    "    - 합성곱(in_channel=1,out_channel=32,kernel_size=3,stride=1,padding=1)+활성화함수(Activation function) Relu\n",
    "    - 맥스풀링(kernel_size=2,strice=2)\n",
    "- 두번째 레이어\n",
    "    - 합성곱(in_channel=32,out_channel=64,kernel_size=3,stride=1,padding=1)+활성화함수(Activation function) Relu\n",
    "    - 맥스풀링(kernel_size=2,strice=2)\n",
    "- 세번째 레이어\n",
    "    - batch_size* 7 * 7 * 64 => batch size=3136(특성맵을 펼치는 레이어)\n",
    "    - Fully connected(전결합층 뉴런 10개)+활성화 함수 softmax"
   ]
  },
  {
   "cell_type": "code",
   "execution_count": 2,
   "id": "222f3e89",
   "metadata": {},
   "outputs": [],
   "source": [
    "# 라이브러리 불러오기\n",
    "import torch\n",
    "import torch.nn as nn"
   ]
  },
  {
   "cell_type": "code",
   "execution_count": 8,
   "id": "b540bbdb",
   "metadata": {},
   "outputs": [
    {
     "name": "stdout",
     "output_type": "stream",
     "text": [
      "텐서의 크기 : torch.Size([1, 1, 28, 28])\n",
      "tensor([[[[0., 0., 0., 0., 0., 0., 0., 0., 0., 0., 0., 0., 0., 0., 0., 0., 0., 0., 0., 0., 0., 0., 0.,\n",
      "           0., 0., 0., 0., 0.],\n",
      "          [0., 0., 0., 0., 0., 0., 0., 0., 0., 0., 0., 0., 0., 0., 0., 0., 0., 0., 0., 0., 0., 0., 0.,\n",
      "           0., 0., 0., 0., 0.],\n",
      "          [0., 0., 0., 0., 0., 0., 0., 0., 0., 0., 0., 0., 0., 0., 0., 0., 0., 0., 0., 0., 0., 0., 0.,\n",
      "           0., 0., 0., 0., 0.],\n",
      "          [0., 0., 0., 0., 0., 0., 0., 0., 0., 0., 0., 0., 0., 0., 0., 0., 0., 0., 0., 0., 0., 0., 0.,\n",
      "           0., 0., 0., 0., 0.],\n",
      "          [0., 0., 0., 0., 0., 0., 0., 0., 0., 0., 0., 0., 0., 0., 0., 0., 0., 0., 0., 0., 0., 0., 0.,\n",
      "           0., 0., 0., 0., 0.],\n",
      "          [0., 0., 0., 0., 0., 0., 0., 0., 0., 0., 0., 0., 0., 0., 0., 0., 0., 0., 0., 0., 0., 0., 0.,\n",
      "           0., 0., 0., 0., 0.],\n",
      "          [0., 0., 0., 0., 0., 0., 0., 0., 0., 0., 0., 0., 0., 0., 0., 0., 0., 0., 0., 0., 0., 0., 0.,\n",
      "           0., 0., 0., 0., 0.],\n",
      "          [0., 0., 0., 0., 0., 0., 0., 0., 0., 0., 0., 0., 0., 0., 0., 0., 0., 0., 0., 0., 0., 0., 0.,\n",
      "           0., 0., 0., 0., 0.],\n",
      "          [0., 0., 0., 0., 0., 0., 0., 0., 0., 0., 0., 0., 0., 0., 0., 0., 0., 0., 0., 0., 0., 0., 0.,\n",
      "           0., 0., 0., 0., 0.],\n",
      "          [0., 0., 0., 0., 0., 0., 0., 0., 0., 0., 0., 0., 0., 0., 0., 0., 0., 0., 0., 0., 0., 0., 0.,\n",
      "           0., 0., 0., 0., 0.],\n",
      "          [0., 0., 0., 0., 0., 0., 0., 0., 0., 0., 0., 0., 0., 0., 0., 0., 0., 0., 0., 0., 0., 0., 0.,\n",
      "           0., 0., 0., 0., 0.],\n",
      "          [0., 0., 0., 0., 0., 0., 0., 0., 0., 0., 0., 0., 0., 0., 0., 0., 0., 0., 0., 0., 0., 0., 0.,\n",
      "           0., 0., 0., 0., 0.],\n",
      "          [0., 0., 0., 0., 0., 0., 0., 0., 0., 0., 0., 0., 0., 0., 0., 0., 0., 0., 0., 0., 0., 0., 0.,\n",
      "           0., 0., 0., 0., 0.],\n",
      "          [0., 0., 0., 0., 0., 0., 0., 0., 0., 0., 0., 0., 0., 0., 0., 0., 0., 0., 0., 0., 0., 0., 0.,\n",
      "           0., 0., 0., 0., 0.],\n",
      "          [0., 0., 0., 0., 0., 0., 0., 0., 0., 0., 0., 0., 0., 0., 0., 0., 0., 0., 0., 0., 0., 0., 0.,\n",
      "           0., 0., 0., 0., 0.],\n",
      "          [0., 0., 0., 0., 0., 0., 0., 0., 0., 0., 0., 0., 0., 0., 0., 0., 0., 0., 0., 0., 0., 0., 0.,\n",
      "           0., 0., 0., 0., 0.],\n",
      "          [0., 0., 0., 0., 0., 0., 0., 0., 0., 0., 0., 0., 0., 0., 0., 0., 0., 0., 0., 0., 0., 0., 0.,\n",
      "           0., 0., 0., 0., 0.],\n",
      "          [0., 0., 0., 0., 0., 0., 0., 0., 0., 0., 0., 0., 0., 0., 0., 0., 0., 0., 0., 0., 0., 0., 0.,\n",
      "           0., 0., 0., 0., 0.],\n",
      "          [0., 0., 0., 0., 0., 0., 0., 0., 0., 0., 0., 0., 0., 0., 0., 0., 0., 0., 0., 0., 0., 0., 0.,\n",
      "           0., 0., 0., 0., 0.],\n",
      "          [0., 0., 0., 0., 0., 0., 0., 0., 0., 0., 0., 0., 0., 0., 0., 0., 0., 0., 0., 0., 0., 0., 0.,\n",
      "           0., 0., 0., 0., 0.],\n",
      "          [0., 0., 0., 0., 0., 0., 0., 0., 0., 0., 0., 0., 0., 0., 0., 0., 0., 0., 0., 0., 0., 0., 0.,\n",
      "           0., 0., 0., 0., 0.],\n",
      "          [0., 0., 0., 0., 0., 0., 0., 0., 0., 0., 0., 0., 0., 0., 0., 0., 0., 0., 0., 0., 0., 0., 0.,\n",
      "           0., 0., 0., 0., 0.],\n",
      "          [0., 0., 0., 0., 0., 0., 0., 0., 0., 0., 0., 0., 0., 0., 0., 0., 0., 0., 0., 0., 0., 0., 0.,\n",
      "           0., 0., 0., 0., 0.],\n",
      "          [0., 0., 0., 0., 0., 0., 0., 0., 0., 0., 0., 0., 0., 0., 0., 0., 0., 0., 0., 0., 0., 0., 0.,\n",
      "           0., 0., 0., 0., 0.],\n",
      "          [0., 0., 0., 0., 0., 0., 0., 0., 0., 0., 0., 0., 0., 0., 0., 0., 0., 0., 0., 0., 0., 0., 0.,\n",
      "           0., 0., 0., 0., 0.],\n",
      "          [0., 0., 0., 0., 0., 0., 0., 0., 0., 0., 0., 0., 0., 0., 0., 0., 0., 0., 0., 0., 0., 0., 0.,\n",
      "           0., 0., 0., 0., 0.],\n",
      "          [0., 0., 0., 0., 0., 0., 0., 0., 0., 0., 0., 0., 0., 0., 0., 0., 0., 0., 0., 0., 0., 0., 0.,\n",
      "           0., 0., 0., 0., 0.],\n",
      "          [0., 0., 0., 0., 0., 0., 0., 0., 0., 0., 0., 0., 0., 0., 0., 0., 0., 0., 0., 0., 0., 0., 0.,\n",
      "           0., 0., 0., 0., 0.]]]])\n"
     ]
    }
   ],
   "source": [
    "# 임의의 텐서 생성(1,1,28,28) -> MNIST데이터\n",
    "inputs = torch.Tensor(1,1,28,28)\n",
    "print(\"텐서의 크기 : {}\".format(inputs.shape))\n",
    "print(inputs)"
   ]
  },
  {
   "cell_type": "code",
   "execution_count": 5,
   "id": "025a3fe7",
   "metadata": {},
   "outputs": [
    {
     "name": "stdout",
     "output_type": "stream",
     "text": [
      "Conv2d(1, 32, kernel_size=(3, 3), stride=(1, 1), padding=(1, 1))\n"
     ]
    }
   ],
   "source": [
    "conv1=nn.Conv2d(1,32,3,padding=1)\n",
    "print(conv1)"
   ]
  },
  {
   "cell_type": "code",
   "execution_count": 6,
   "id": "72cb08ea",
   "metadata": {},
   "outputs": [
    {
     "name": "stdout",
     "output_type": "stream",
     "text": [
      "Conv2d(32, 64, kernel_size=(3, 3), stride=(1, 1), padding=(1, 1))\n"
     ]
    }
   ],
   "source": [
    "conv2 = nn.Conv2d(32,64,3,padding=1)\n",
    "print(conv2)"
   ]
  },
  {
   "cell_type": "code",
   "execution_count": 7,
   "id": "88235c34",
   "metadata": {},
   "outputs": [
    {
     "name": "stdout",
     "output_type": "stream",
     "text": [
      "MaxPool2d(kernel_size=2, stride=2, padding=0, dilation=1, ceil_mode=False)\n"
     ]
    }
   ],
   "source": [
    "# 세번째레이어 (풀링 레이어)\n",
    "# maxpool은 커널 사이즈에서 가장 큰 값 하나로 줄이는 것\n",
    "pool = nn.MaxPool2d(2) # 특성맵을 펼치는 레이어\n",
    "print(pool)\n"
   ]
  },
  {
   "cell_type": "code",
   "execution_count": 9,
   "id": "9c14c206",
   "metadata": {},
   "outputs": [
    {
     "name": "stdout",
     "output_type": "stream",
     "text": [
      "torch.Size([1, 32, 28, 28])\n"
     ]
    }
   ],
   "source": [
    "# 선언된 레이어를 연결하는 과정\n",
    "out = conv1(inputs)\n",
    "print(out.shape)"
   ]
  },
  {
   "cell_type": "code",
   "execution_count": 10,
   "id": "daaa53f5",
   "metadata": {},
   "outputs": [
    {
     "name": "stdout",
     "output_type": "stream",
     "text": [
      "torch.Size([1, 32, 14, 14])\n"
     ]
    }
   ],
   "source": [
    "out = pool(out)\n",
    "print(out.shape)"
   ]
  },
  {
   "cell_type": "code",
   "execution_count": 11,
   "id": "15b12d28",
   "metadata": {},
   "outputs": [
    {
     "name": "stdout",
     "output_type": "stream",
     "text": [
      "torch.Size([1, 64, 14, 14])\n"
     ]
    }
   ],
   "source": [
    "out = conv2(out)\n",
    "print(out.shape)"
   ]
  },
  {
   "cell_type": "code",
   "execution_count": 12,
   "id": "33a569f9",
   "metadata": {},
   "outputs": [
    {
     "name": "stdout",
     "output_type": "stream",
     "text": [
      "tensor([[[[0.0624, 0.0624, 0.0624,  ..., 0.0624, 0.0624, 0.0834],\n",
      "          [0.0052, 0.0052, 0.0052,  ..., 0.0052, 0.0052, 0.0455],\n",
      "          [0.0052, 0.0052, 0.0052,  ..., 0.0052, 0.0052, 0.0455],\n",
      "          ...,\n",
      "          [0.0052, 0.0052, 0.0052,  ..., 0.0052, 0.0052, 0.0455],\n",
      "          [0.0052, 0.0052, 0.0052,  ..., 0.0052, 0.0052, 0.0455],\n",
      "          [0.0052, 0.0052, 0.0052,  ..., 0.0052, 0.0052, 0.0455]],\n",
      "\n",
      "         [[0.0200, 0.0200, 0.0200,  ..., 0.0200, 0.0200, 0.0609],\n",
      "          [0.0200, 0.0200, 0.0200,  ..., 0.0200, 0.0200, 0.0609],\n",
      "          [0.0200, 0.0200, 0.0200,  ..., 0.0200, 0.0200, 0.0609],\n",
      "          ...,\n",
      "          [0.0200, 0.0200, 0.0200,  ..., 0.0200, 0.0200, 0.0609],\n",
      "          [0.0200, 0.0200, 0.0200,  ..., 0.0200, 0.0200, 0.0609],\n",
      "          [0.0215, 0.0215, 0.0215,  ..., 0.0215, 0.0215, 0.0609]],\n",
      "\n",
      "         [[0.1493, 0.1493, 0.1493,  ..., 0.1493, 0.1493, 0.1493],\n",
      "          [0.0987, 0.0987, 0.0987,  ..., 0.0987, 0.0987, 0.0987],\n",
      "          [0.0987, 0.0987, 0.0987,  ..., 0.0987, 0.0987, 0.0987],\n",
      "          ...,\n",
      "          [0.0987, 0.0987, 0.0987,  ..., 0.0987, 0.0987, 0.0987],\n",
      "          [0.0987, 0.0987, 0.0987,  ..., 0.0987, 0.0987, 0.0987],\n",
      "          [0.0987, 0.0987, 0.0987,  ..., 0.0987, 0.0987, 0.0987]],\n",
      "\n",
      "         ...,\n",
      "\n",
      "         [[0.1363, 0.1363, 0.1363,  ..., 0.1363, 0.1363, 0.1363],\n",
      "          [0.1363, 0.1363, 0.1363,  ..., 0.1363, 0.1363, 0.1363],\n",
      "          [0.1363, 0.1363, 0.1363,  ..., 0.1363, 0.1363, 0.1363],\n",
      "          ...,\n",
      "          [0.1363, 0.1363, 0.1363,  ..., 0.1363, 0.1363, 0.1363],\n",
      "          [0.1363, 0.1363, 0.1363,  ..., 0.1363, 0.1363, 0.1363],\n",
      "          [0.1935, 0.1935, 0.1935,  ..., 0.1935, 0.1935, 0.1935]],\n",
      "\n",
      "         [[0.1194, 0.1194, 0.1194,  ..., 0.1194, 0.1194, 0.1404],\n",
      "          [0.1194, 0.1194, 0.1194,  ..., 0.1194, 0.1194, 0.1404],\n",
      "          [0.1194, 0.1194, 0.1194,  ..., 0.1194, 0.1194, 0.1404],\n",
      "          ...,\n",
      "          [0.1194, 0.1194, 0.1194,  ..., 0.1194, 0.1194, 0.1404],\n",
      "          [0.1194, 0.1194, 0.1194,  ..., 0.1194, 0.1194, 0.1404],\n",
      "          [0.1194, 0.1194, 0.1194,  ..., 0.1194, 0.1194, 0.1404]],\n",
      "\n",
      "         [[0.1138, 0.1138, 0.1138,  ..., 0.1138, 0.1138, 0.1138],\n",
      "          [0.0756, 0.0756, 0.0756,  ..., 0.0756, 0.0756, 0.0756],\n",
      "          [0.0756, 0.0756, 0.0756,  ..., 0.0756, 0.0756, 0.0756],\n",
      "          ...,\n",
      "          [0.0756, 0.0756, 0.0756,  ..., 0.0756, 0.0756, 0.0756],\n",
      "          [0.0756, 0.0756, 0.0756,  ..., 0.0756, 0.0756, 0.0756],\n",
      "          [0.0756, 0.0756, 0.0756,  ..., 0.0756, 0.0756, 0.0756]]]],\n",
      "       grad_fn=<MaxPool2DWithIndicesBackward0>)\n"
     ]
    }
   ],
   "source": [
    "out = pool(out)\n",
    "print(out.shape)"
   ]
  },
  {
   "cell_type": "code",
   "execution_count": 13,
   "id": "29b70e27",
   "metadata": {},
   "outputs": [
    {
     "name": "stdout",
     "output_type": "stream",
     "text": [
      "torch.Size([1, 3136])\n"
     ]
    }
   ],
   "source": [
    "# view()함수를 사용해서 텐서를 펼치는 작업(텐서를 통합한다.)\n",
    "out = out.view(out.size(0),-1)\n",
    "print(out.shape)"
   ]
  },
  {
   "cell_type": "code",
   "execution_count": 14,
   "id": "91a5ab6c",
   "metadata": {},
   "outputs": [
    {
     "name": "stdout",
     "output_type": "stream",
     "text": [
      "torch.Size([1, 10])\n"
     ]
    }
   ],
   "source": [
    "fc = nn.Linear(3136,10) # fully connected : 전체를 연결(기초적인 신경망) 통합된 \n",
    "                        #텐서를 통해 0~9까지의 결과를 갖게 되기 때문에 10개의 output\n",
    "out = fc(out)\n",
    "print(out.shape)"
   ]
  },
  {
   "cell_type": "code",
   "execution_count": 15,
   "id": "ce52a26f",
   "metadata": {},
   "outputs": [],
   "source": [
    "import torch\n",
    "import torchvision.datasets as dsets\n",
    "import torchvision.transforms as transforms\n",
    "import torch.nn.init"
   ]
  },
  {
   "cell_type": "code",
   "execution_count": 16,
   "id": "b4e02e19",
   "metadata": {},
   "outputs": [],
   "source": [
    "device = 'cuda' if torch.cuda.is_available() else 'cpu'\n",
    "\n",
    "#GPU 사용시에 고정시킬 시드를 선언\n",
    "torch.manual_seed(777)\n",
    "\n",
    "#만약 CPU가 아닌 GPU를 사용해서 훈련을 진행할 경우 고정된 시드를 통해 GPU로 학습.\n",
    "if device=='cuda':\n",
    "    torch.cuda.manual_seed_all(777)"
   ]
  },
  {
   "cell_type": "code",
   "execution_count": 18,
   "id": "ff9bdfad",
   "metadata": {},
   "outputs": [
    {
     "name": "stdout",
     "output_type": "stream",
     "text": [
      "True\n"
     ]
    }
   ],
   "source": [
    "# cuda를 사용할 환경이 맞는지 검사\n",
    "print(torch.cuda.is_available())"
   ]
  },
  {
   "cell_type": "code",
   "execution_count": 19,
   "id": "f91b4e45",
   "metadata": {},
   "outputs": [],
   "source": [
    "learning_rate=0.001\n",
    "training_epoch=15\n",
    "batch_size=100"
   ]
  },
  {
   "cell_type": "code",
   "execution_count": 21,
   "id": "87e3ed7b",
   "metadata": {},
   "outputs": [
    {
     "name": "stdout",
     "output_type": "stream",
     "text": [
      "Downloading http://yann.lecun.com/exdb/mnist/train-images-idx3-ubyte.gz\n",
      "Downloading http://yann.lecun.com/exdb/mnist/train-images-idx3-ubyte.gz to MNIST_data/MNIST\\raw\\train-images-idx3-ubyte.gz\n"
     ]
    },
    {
     "name": "stderr",
     "output_type": "stream",
     "text": [
      "31.0%IOPub message rate exceeded.\n",
      "The notebook server will temporarily stop sending output\n",
      "to the client in order to avoid crashing it.\n",
      "To change this limit, set the config variable\n",
      "`--NotebookApp.iopub_msg_rate_limit`.\n",
      "\n",
      "Current values:\n",
      "NotebookApp.iopub_msg_rate_limit=1000.0 (msgs/sec)\n",
      "NotebookApp.rate_limit_window=3.0 (secs)\n",
      "\n",
      "91.0%IOPub message rate exceeded.\n",
      "The notebook server will temporarily stop sending output\n",
      "to the client in order to avoid crashing it.\n",
      "To change this limit, set the config variable\n",
      "`--NotebookApp.iopub_msg_rate_limit`.\n",
      "\n",
      "Current values:\n",
      "NotebookApp.iopub_msg_rate_limit=1000.0 (msgs/sec)\n",
      "NotebookApp.rate_limit_window=3.0 (secs)\n",
      "\n"
     ]
    }
   ],
   "source": [
    "#MNIST train, test 데이터셋을 torchvision.datasets를 통해 비교적으로 쉽게 가져오기\n",
    "mnist_train=dsets.MNIST(root = 'MNIST_data/',\n",
    "                       train = True,\n",
    "                        transform=transforms.ToTensor(),\n",
    "                       download=True)\n",
    "mnist_test=dsets.MNIST(root = 'MNIST_data/',\n",
    "                       train = False,\n",
    "                        transform=transforms.ToTensor(),\n",
    "                       download=True)\n"
   ]
  },
  {
   "cell_type": "code",
   "execution_count": 22,
   "id": "57171251",
   "metadata": {},
   "outputs": [],
   "source": [
    "data_loader = torch.utils.data.DataLoader(dataset = mnist_train,\n",
    "                                         batch_size=batch_size,\n",
    "                                         shuffle=True,\n",
    "                                         drop_last=True)"
   ]
  },
  {
   "cell_type": "code",
   "execution_count": 32,
   "id": "a977ad97",
   "metadata": {},
   "outputs": [],
   "source": [
    "class CNN(torch.nn.Module):\n",
    "    def __init__(self):\n",
    "        super(CNN,self).__init__()\n",
    "        self.layer1=torch.nn.Sequential(torch.nn.Conv2d(1,32,kernel_size=3,stride=1,padding=1),\n",
    "                                       torch.nn.ReLU(),\n",
    "                                       torch.nn.MaxPool2d(kernel_size=2,stride=2))\n",
    "        self.layer2=torch.nn.Sequential(torch.nn.Conv2d(32,64,kernel_size=3,stride=1,padding=1),\n",
    "                                       torch.nn.ReLU(),\n",
    "                                       torch.nn.MaxPool2d(kernel_size=2,stride=2))\n",
    "        self.fc=torch.nn.Linear(7*7*64,10,bias=True)\n",
    "        torch.nn.init.xavier_uniform_(self.fc.weight)\n",
    "    def forward(self,x): #레이어를 거치며 계산되는 가중치를 전달하기 위해 사용하는 함수\n",
    "        out=self.layer1(x)\n",
    "        out=self.layer2(out)\n",
    "        out=out.view(out.size(0),-1)\n",
    "        out=self.fc(out)\n",
    "        \n",
    "        return out"
   ]
  },
  {
   "cell_type": "code",
   "execution_count": 33,
   "id": "be2f235c",
   "metadata": {},
   "outputs": [],
   "source": [
    "#gpu에서 연산을 하게 됨, to(device)를 통해 gpu에서 연산을 하게 됨\n",
    "model = CNN().to(device)"
   ]
  },
  {
   "cell_type": "code",
   "execution_count": 34,
   "id": "1c5af904",
   "metadata": {},
   "outputs": [],
   "source": [
    "#비용함수(cost function. loss function)은 크로스 엔트로피로 설정\n",
    "criterion = torch.nn.CrossEntropyLoss().to(device)\n",
    "optimizer = torch.optim.Adam(model.parameters(), lr=learning_rate)"
   ]
  },
  {
   "cell_type": "code",
   "execution_count": 35,
   "id": "85bb36b4",
   "metadata": {},
   "outputs": [
    {
     "name": "stdout",
     "output_type": "stream",
     "text": [
      "총 배치의 수 : 600\n"
     ]
    }
   ],
   "source": [
    "total_batch=len(data_loader)\n",
    "print('총 배치의 수 : {}'.format(total_batch))\n",
    "#60000개의 데이터, batch_size를 100번, total_batch는 600"
   ]
  },
  {
   "cell_type": "code",
   "execution_count": 37,
   "id": "02b5e2eb",
   "metadata": {},
   "outputs": [
    {
     "name": "stdout",
     "output_type": "stream",
     "text": [
      "[Epoch:    1] cost = 0.00552975526\n",
      "[Epoch:    2] cost = 0.00496365083\n",
      "[Epoch:    3] cost = 0.00410139095\n",
      "[Epoch:    4] cost = 0.0042967014\n",
      "[Epoch:    5] cost = 0.00279332022\n",
      "[Epoch:    6] cost = 0.00209658593\n",
      "[Epoch:    7] cost = 0.00280494848\n",
      "[Epoch:    8] cost = 0.00371771678\n",
      "[Epoch:    9] cost = 0.00339125493\n",
      "[Epoch:   10] cost = 0.00176443777\n",
      "[Epoch:   11] cost = 0.00209381385\n",
      "[Epoch:   12] cost = 0.000440776814\n",
      "[Epoch:   13] cost = 0.000147711471\n",
      "[Epoch:   14] cost = 5.41148111e-05\n",
      "[Epoch:   15] cost = 3.41760497e-05\n"
     ]
    }
   ],
   "source": [
    "for epoch in range(training_epoch):\n",
    "    avg_cost = 0\n",
    "    for X,Y in data_loader:\n",
    "        X=X.to(device)\n",
    "        Y=Y.to(device)\n",
    "        \n",
    "        optimizer.zero_grad()\n",
    "        hypothesis=model(X)\n",
    "        cost=criterion(hypothesis,Y)\n",
    "        cost.backward()\n",
    "        optimizer.step()\n",
    "        \n",
    "        avg_cost+=cost/total_batch\n",
    "    # {:>4}는 4자리 뒤에서부터 출력\n",
    "    print('[Epoch: {:>4}] cost = {:>.9}'.format(epoch+1,avg_cost))"
   ]
  },
  {
   "cell_type": "code",
   "execution_count": 38,
   "id": "1f63d801",
   "metadata": {},
   "outputs": [
    {
     "name": "stdout",
     "output_type": "stream",
     "text": [
      "Accuracy: 0.9879999756813049\n"
     ]
    },
    {
     "name": "stderr",
     "output_type": "stream",
     "text": [
      "C:\\Anaconda\\envs\\pytorch\\lib\\site-packages\\torchvision\\datasets\\mnist.py:67: UserWarning: test_data has been renamed data\n",
      "  warnings.warn(\"test_data has been renamed data\")\n",
      "C:\\Anaconda\\envs\\pytorch\\lib\\site-packages\\torchvision\\datasets\\mnist.py:57: UserWarning: test_labels has been renamed targets\n",
      "  warnings.warn(\"test_labels has been renamed targets\")\n"
     ]
    }
   ],
   "source": [
    "with torch.no_grad():\n",
    "    X_test = mnist_test.test_data.view(len(mnist_test),1,28,28).float().to(device)\n",
    "    Y_test = mnist_test.test_labels.to(device)\n",
    "    \n",
    "    prediction=model(X_test)\n",
    "    correct_prediction=torch.argmax(prediction,1)==Y_test\n",
    "    accuracy=correct_prediction.float().mean()\n",
    "    print('Accuracy:',accuracy.item())"
   ]
  },
  {
   "cell_type": "code",
   "execution_count": null,
   "id": "c4220f1c",
   "metadata": {},
   "outputs": [],
   "source": []
  }
 ],
 "metadata": {
  "kernelspec": {
   "display_name": "Python 3 (ipykernel)",
   "language": "python",
   "name": "python3"
  },
  "language_info": {
   "codemirror_mode": {
    "name": "ipython",
    "version": 3
   },
   "file_extension": ".py",
   "mimetype": "text/x-python",
   "name": "python",
   "nbconvert_exporter": "python",
   "pygments_lexer": "ipython3",
   "version": "3.8.12"
  }
 },
 "nbformat": 4,
 "nbformat_minor": 5
}
